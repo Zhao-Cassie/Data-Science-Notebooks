{
    "cells": [
        {
            "cell_type": "markdown",
            "metadata": {
                "collapsed": true
            },
            "source": "# My Jupyter Notebook on IBM Watson Studio "
        },
        {
            "cell_type": "markdown",
            "metadata": {},
            "source": "**Hua Run Zhao**\n\nDesired Occupation: Data Scientist"
        },
        {
            "cell_type": "markdown",
            "metadata": {},
            "source": "_I am interested in data science because I am interested in delving deeper into the field of machine learning to see how it can be applied to derive business insights and help businesses gain a competitive advantage._"
        },
        {
            "cell_type": "markdown",
            "metadata": {},
            "source": "### The code below will print out a simple message that says \"Hello World\""
        },
        {
            "cell_type": "code",
            "execution_count": 2,
            "metadata": {},
            "outputs": [
                {
                    "name": "stdout",
                    "output_type": "stream",
                    "text": "Hello World\n"
                }
            ],
            "source": "print(\"Hello World\")"
        },
        {
            "attachments": {},
            "cell_type": "markdown",
            "metadata": {},
            "source": "***\n~~Unordered List ~~\n* One\n* Two\n* Three\n\nNumbered List\n1. One\n2. Two\n3. Three\n\n---\n\nTesting| Out | Tables\n---|---|---\n1|2|3\n\n---\n![alt text](https://upload.wikimedia.org/wikipedia/commons/0/02/Eichh%C3%B6rnchen_D%C3%BCsseldorf_Hofgarten_edit.jpg)"
        }
    ],
    "metadata": {
        "kernelspec": {
            "display_name": "Python 3.6",
            "language": "python",
            "name": "python3"
        },
        "language_info": {
            "codemirror_mode": {
                "name": "ipython",
                "version": 3
            },
            "file_extension": ".py",
            "mimetype": "text/x-python",
            "name": "python",
            "nbconvert_exporter": "python",
            "pygments_lexer": "ipython3",
            "version": "3.6.9"
        }
    },
    "nbformat": 4,
    "nbformat_minor": 1
}